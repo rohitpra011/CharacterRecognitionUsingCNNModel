{
  "nbformat": 4,
  "nbformat_minor": 0,
  "metadata": {
    "colab": {
      "provenance": [],
      "authorship_tag": "ABX9TyO89sIVIOJRAY76w44qtAM9",
      "include_colab_link": true
    },
    "kernelspec": {
      "name": "python3",
      "display_name": "Python 3"
    },
    "language_info": {
      "name": "python"
    }
  },
  "cells": [
    {
      "cell_type": "markdown",
      "metadata": {
        "id": "view-in-github",
        "colab_type": "text"
      },
      "source": [
        "<a href=\"https://colab.research.google.com/github/rohitpra011/CharacterRecognitionUsingCNNModel/blob/main/CharacterRecognitionCNNModel.ipynb\" target=\"_parent\"><img src=\"https://colab.research.google.com/assets/colab-badge.svg\" alt=\"Open In Colab\"/></a>"
      ]
    },
    {
      "cell_type": "code",
      "execution_count": null,
      "metadata": {
        "id": "RUCjxhTY7rFW"
      },
      "outputs": [],
      "source": [
        "import tensorflow as tf\n",
        "from tensorflow import keras\n",
        "\n",
        "# loading the dataset\n",
        "(X_train, y_train), (X_test, y_test) = keras.datasets.mnist.load_data()\n"
      ]
    },
    {
      "cell_type": "code",
      "source": [
        "\n",
        "#data preprocessing \n",
        "X_train = X_train.reshape((X_train.shape[0], 28, 28, 1)) / 255.0\n",
        "X_test = X_test.reshape((X_test.shape[0], 28, 28, 1)) / 255.0\n",
        "y_train = keras.utils.to_categorical(y_train)\n",
        "y_test = keras.utils.to_categorical(y_test)\n"
      ],
      "metadata": {
        "id": "Er93z34E8uZY"
      },
      "execution_count": null,
      "outputs": []
    },
    {
      "cell_type": "code",
      "source": [
        "# model architecture\n",
        "model = keras.Sequential([\n",
        "    keras.layers.Conv2D(32, (3, 3), activation='relu', input_shape=(28, 28, 1)),\n",
        "    keras.layers.MaxPooling2D((2, 2)),\n",
        "    keras.layers.Conv2D(64, (3, 3), activation='relu'),\n",
        "    keras.layers.MaxPooling2D((2, 2)),\n",
        "    keras.layers.Flatten(),\n",
        "    keras.layers.Dense(10, activation='softmax')\n",
        "])\n"
      ],
      "metadata": {
        "id": "RNRkOcZN80R2"
      },
      "execution_count": null,
      "outputs": []
    },
    {
      "cell_type": "code",
      "source": [
        "# Compile the model\n",
        "model.compile(optimizer='adam', loss='categorical_crossentropy', metrics=['accuracy'])\n"
      ],
      "metadata": {
        "id": "EB5G1Tct9Ueu"
      },
      "execution_count": null,
      "outputs": []
    },
    {
      "cell_type": "code",
      "source": [
        "# Train the model\n",
        "model.fit(X_train, y_train, epochs=5, batch_size=32, validation_data=(X_test, y_test))\n"
      ],
      "metadata": {
        "colab": {
          "base_uri": "https://localhost:8080/"
        },
        "id": "GTmnepw79unE",
        "outputId": "0f598430-3c0d-47b7-9eb5-41a8b2d74575"
      },
      "execution_count": null,
      "outputs": [
        {
          "output_type": "stream",
          "name": "stdout",
          "text": [
            "Epoch 1/5\n",
            "1875/1875 [==============================] - 63s 33ms/step - loss: 0.1571 - accuracy: 0.9533 - val_loss: 0.0471 - val_accuracy: 0.9852\n",
            "Epoch 2/5\n",
            "1875/1875 [==============================] - 62s 33ms/step - loss: 0.0518 - accuracy: 0.9842 - val_loss: 0.0378 - val_accuracy: 0.9883\n",
            "Epoch 3/5\n",
            "1875/1875 [==============================] - 60s 32ms/step - loss: 0.0378 - accuracy: 0.9883 - val_loss: 0.0311 - val_accuracy: 0.9906\n",
            "Epoch 4/5\n",
            "1875/1875 [==============================] - 61s 32ms/step - loss: 0.0301 - accuracy: 0.9908 - val_loss: 0.0381 - val_accuracy: 0.9887\n",
            "Epoch 5/5\n",
            "1875/1875 [==============================] - 60s 32ms/step - loss: 0.0237 - accuracy: 0.9925 - val_loss: 0.0281 - val_accuracy: 0.9906\n"
          ]
        },
        {
          "output_type": "execute_result",
          "data": {
            "text/plain": [
              "<keras.callbacks.History at 0x7f2371ac7280>"
            ]
          },
          "metadata": {},
          "execution_count": 5
        }
      ]
    },
    {
      "cell_type": "code",
      "source": [
        "# Evaluate the model\n",
        "test_loss,test_acc= model.evaluate(X_test, y_test)\n",
        "print('Test accuracy:',test_acc)"
      ],
      "metadata": {
        "colab": {
          "base_uri": "https://localhost:8080/"
        },
        "id": "wHxirDEh_z9P",
        "outputId": "742ce41d-dc96-4a26-c0a8-943d4e766fd8"
      },
      "execution_count": null,
      "outputs": [
        {
          "output_type": "stream",
          "name": "stdout",
          "text": [
            "313/313 [==============================] - 3s 9ms/step - loss: 0.0281 - accuracy: 0.9906\n",
            "Test accuracy: 0.9905999898910522\n"
          ]
        }
      ]
    },
    {
      "cell_type": "code",
      "source": [
        "\n",
        "from PIL import Image\n",
        "\n",
        "# Specify the path to your image file\n",
        "image_path = '/content/sample_data/img008-00016.png'\n",
        "\n",
        "# Open the image using Pillow\n",
        "image = Image.open(image_path)"
      ],
      "metadata": {
        "id": "vK7AR5Z9y9Cq"
      },
      "execution_count": null,
      "outputs": []
    },
    {
      "cell_type": "code",
      "source": [
        "import numpy as np\n",
        "\n",
        "image = image.convert('L')\n",
        "\n",
        "# Resize the image to match the input shape expected by the model\n",
        "image = image.resize((28, 28))\n",
        "\n",
        "# Convert the image to a NumPy array\n",
        "image_array = np.array(image)\n",
        "\n",
        "# Preprocess the image\n",
        "image_array = image_array.reshape((1, 28, 28, 1)) / 255.0\n",
        "\n",
        "# Make the prediction\n",
        "predictions = model.predict(image_array)\n",
        "\n",
        "# Get the predicted class label\n",
        "predicted_label = np.argmax(predictions)\n",
        "\n",
        "print('Predicted label:', predicted_label)"
      ],
      "metadata": {
        "colab": {
          "base_uri": "https://localhost:8080/"
        },
        "id": "orPsPkNQ3psT",
        "outputId": "ba3e1b9e-727d-4a8e-acd7-c20fbde778b3"
      },
      "execution_count": null,
      "outputs": [
        {
          "output_type": "stream",
          "name": "stdout",
          "text": [
            "1/1 [==============================] - 0s 20ms/step\n",
            "Predicted label: 4\n"
          ]
        }
      ]
    }
  ]
}